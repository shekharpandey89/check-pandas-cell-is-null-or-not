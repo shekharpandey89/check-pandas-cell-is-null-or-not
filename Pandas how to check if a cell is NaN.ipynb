{
 "cells": [
  {
   "cell_type": "markdown",
   "id": "sized-quantum",
   "metadata": {},
   "source": [
    "# Method 1: using isnull function"
   ]
  },
  {
   "cell_type": "code",
   "execution_count": 23,
   "id": "superb-mailing",
   "metadata": {},
   "outputs": [
    {
     "name": "stdout",
     "output_type": "stream",
     "text": [
      "       x     y\n",
      "0    1.0  11.0\n",
      "1    2.0  12.0\n",
      "2    3.0   NaN\n",
      "3    4.0  13.0\n",
      "4    5.0  14.0\n",
      "5    NaN   NaN\n",
      "6    6.0  15.0\n",
      "7    7.0  16.0\n",
      "8    NaN   NaN\n",
      "9    8.0   NaN\n",
      "10   9.0  17.0\n",
      "11  10.0   NaN\n",
      "12   NaN  19.0\n"
     ]
    }
   ],
   "source": [
    "import pandas as pd\n",
    "import numpy as np\n",
    "\n",
    "data = {'x': [1,2,3,4,5,np.nan,6,7,np.nan,8,9,10,np.nan],\n",
    "        'y': [11,12,np.nan,13,14,np.nan,15,16,np.nan,np.nan,17,np.nan,19]}\n",
    "df = pd.DataFrame(data)\n",
    "\n",
    "print (df)\n",
    "\n"
   ]
  },
  {
   "cell_type": "code",
   "execution_count": 36,
   "id": "contemporary-throat",
   "metadata": {},
   "outputs": [
    {
     "data": {
      "text/plain": [
       "True"
      ]
     },
     "execution_count": 36,
     "metadata": {},
     "output_type": "execute_result"
    }
   ],
   "source": [
    "# checking NaN in a cell\n",
    "\n",
    "pd.isnull(df.iloc[5,0])"
   ]
  },
  {
   "cell_type": "markdown",
   "id": "conservative-yellow",
   "metadata": {},
   "source": [
    "# Method 2: using isnan function"
   ]
  },
  {
   "cell_type": "code",
   "execution_count": 42,
   "id": "perfect-insulin",
   "metadata": {},
   "outputs": [
    {
     "name": "stdout",
     "output_type": "stream",
     "text": [
      "       x     y\n",
      "0    1.0  11.0\n",
      "1    2.0  12.0\n",
      "2    3.0   NaN\n",
      "3    4.0  13.0\n",
      "4    5.0  14.0\n",
      "5    NaN   NaN\n",
      "6    6.0  15.0\n",
      "7    7.0  16.0\n",
      "8    NaN   NaN\n",
      "9    8.0   NaN\n",
      "10   9.0  17.0\n",
      "11  10.0   NaN\n",
      "12   NaN  19.0\n",
      "===============\n",
      "Is value at df[5, 'x'] NaN : True\n"
     ]
    }
   ],
   "source": [
    "# We can also check the cell NaN value in dataframe\n",
    "data = {'x': [1,2,3,4,5,np.nan,6,7,np.nan,8,9,10,np.nan],\n",
    "        'y': [11,12,np.nan,13,14,np.nan,15,16,np.nan,np.nan,17,np.nan,19]}\n",
    "df = pd.DataFrame(data)\n",
    "print(df)\n",
    "value = df.at[5, 'x']  #nan\n",
    "isNaN = np.isnan(value)\n",
    "print(\"===============\")\n",
    "print(\"Is value at df[5, 'x'] NaN :\", isNaN)"
   ]
  },
  {
   "cell_type": "markdown",
   "id": "super-violation",
   "metadata": {},
   "source": [
    "# Method 3: using isnan in series"
   ]
  },
  {
   "cell_type": "code",
   "execution_count": 34,
   "id": "ethical-demographic",
   "metadata": {},
   "outputs": [
    {
     "name": "stdout",
     "output_type": "stream",
     "text": [
      "0     2.0\n",
      "1     3.0\n",
      "2     NaN\n",
      "3     7.0\n",
      "4    25.0\n",
      "dtype: float64\n",
      "===============\n",
      "Is value at df[2] NaN : True\n"
     ]
    }
   ],
   "source": [
    "# We can also check the cell NaN value in dataframe series\n",
    "\n",
    "series_df = pd.Series([2,3,np.nan,7,25])\n",
    "\n",
    "print(series_df)\n",
    "value = series_df[2]  #nan\n",
    "isNaN = np.isnan(value)\n",
    "print(\"===============\")\n",
    "print(\"Is value at df[2] NaN :\", isNaN)"
   ]
  },
  {
   "cell_type": "markdown",
   "id": "developing-thomas",
   "metadata": {},
   "source": [
    "# Method 4: using pandas.isna"
   ]
  },
  {
   "cell_type": "code",
   "execution_count": 41,
   "id": "dimensional-rwanda",
   "metadata": {},
   "outputs": [
    {
     "name": "stdout",
     "output_type": "stream",
     "text": [
      "       x     y\n",
      "0    1.0  11.0\n",
      "1    2.0  12.0\n",
      "2    3.0   NaN\n",
      "3    4.0  13.0\n",
      "4    5.0  14.0\n",
      "5    NaN   NaN\n",
      "6    6.0  15.0\n",
      "7    7.0  16.0\n",
      "8    NaN   NaN\n",
      "9    8.0   NaN\n",
      "10   9.0  17.0\n",
      "11  10.0   NaN\n",
      "12   NaN  19.0\n",
      "checking NaN value in cell [5, 0]\n"
     ]
    },
    {
     "data": {
      "text/plain": [
       "True"
      ]
     },
     "execution_count": 41,
     "metadata": {},
     "output_type": "execute_result"
    }
   ],
   "source": [
    "\n",
    "data = {'x': [1,2,3,4,5,np.nan,6,7,np.nan,8,9,10,np.nan],\n",
    "        'y': [11,12,np.nan,13,14,np.nan,15,16,np.nan,np.nan,17,np.nan,19]}\n",
    "df = pd.DataFrame(data)\n",
    "\n",
    "print (df)\n",
    "\n",
    "print(\"checking NaN value in cell [5, 0]\")\n",
    "pd.isna(df.iloc[5,0])"
   ]
  },
  {
   "cell_type": "markdown",
   "id": "later-vienna",
   "metadata": {},
   "source": [
    "# Method 5: using pandas.notnull method"
   ]
  },
  {
   "cell_type": "code",
   "execution_count": 39,
   "id": "quantitative-tomorrow",
   "metadata": {},
   "outputs": [
    {
     "name": "stdout",
     "output_type": "stream",
     "text": [
      "       x     y\n",
      "0    1.0  11.0\n",
      "1    2.0  12.0\n",
      "2    3.0   NaN\n",
      "3    4.0  13.0\n",
      "4    5.0  14.0\n",
      "5    NaN   NaN\n",
      "6    6.0  15.0\n",
      "7    7.0  16.0\n",
      "8    NaN   NaN\n",
      "9    8.0   NaN\n",
      "10   9.0  17.0\n",
      "11  10.0   NaN\n",
      "12   NaN  19.0\n",
      "checking NaN value in cell [5, 0]\n"
     ]
    },
    {
     "data": {
      "text/plain": [
       "False"
      ]
     },
     "execution_count": 39,
     "metadata": {},
     "output_type": "execute_result"
    }
   ],
   "source": [
    "\n",
    "data = {'x': [1,2,3,4,5,np.nan,6,7,np.nan,8,9,10,np.nan],\n",
    "        'y': [11,12,np.nan,13,14,np.nan,15,16,np.nan,np.nan,17,np.nan,19]}\n",
    "df = pd.DataFrame(data)\n",
    "\n",
    "print (df)\n",
    "\n",
    "print(\"checking NaN value in cell [5, 0]\")\n",
    "pd.notnull(df.iloc[5,0])"
   ]
  },
  {
   "cell_type": "code",
   "execution_count": null,
   "id": "magnetic-possibility",
   "metadata": {},
   "outputs": [],
   "source": []
  },
  {
   "cell_type": "code",
   "execution_count": null,
   "id": "measured-slovak",
   "metadata": {},
   "outputs": [],
   "source": []
  }
 ],
 "metadata": {
  "kernelspec": {
   "display_name": "cv",
   "language": "python",
   "name": "cv"
  },
  "language_info": {
   "codemirror_mode": {
    "name": "ipython",
    "version": 3
   },
   "file_extension": ".py",
   "mimetype": "text/x-python",
   "name": "python",
   "nbconvert_exporter": "python",
   "pygments_lexer": "ipython3",
   "version": "3.8.10"
  }
 },
 "nbformat": 4,
 "nbformat_minor": 5
}
